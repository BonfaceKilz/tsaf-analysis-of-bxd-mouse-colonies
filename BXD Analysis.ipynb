{
 "cells": [
  {
   "cell_type": "markdown",
   "id": "bf84b99a",
   "metadata": {},
   "source": [
    "#  Time Series Analysis of BXD Aging Colony Body Weight\n",
    "\n",
    "The BXD family of mice is a recombinant inbred strain of mice which can be reproduced by crossing a female C57BL/6J (B6 or B) and a male DBA/ 2J (D2 or D).  They are used to map Mendelian and Trait Loci.\n",
    "\n",
    "In this explorative exercise, we apply some time series analysis to investigate body weight across several months of collected data.  We first do some data cleaning, and from the various data points, pick one experiment(represented as one vector) to model and attempt forecasting.\n",
    "\n",
    "The dataset provided in this exercise was provided by [Prof Roy Suheeta](https://www.researchgate.net/profile/Suheeta-Roy)"
   ]
  },
  {
   "cell_type": "markdown",
   "id": "7edfb91e",
   "metadata": {},
   "source": [
    "### Data Cleaning\n",
    "\n",
    "The first part of this exercise is to store the data in a panda's data frame; remove metadata that is useless; and reshape some of the titles to make visualisation easier."
   ]
  },
  {
   "cell_type": "markdown",
   "id": "147c68c3",
   "metadata": {},
   "source": [
    "We first get an overview of what this dataset looks like:"
   ]
  },
  {
   "cell_type": "code",
   "execution_count": 3,
   "id": "6e512de8",
   "metadata": {},
   "outputs": [
    {
     "name": "stdout",
     "output_type": "stream",
     "text": [
      "Columns:\n",
      "EarTagNumberCurrent EarTagNumberOriginal StrainName Sex Diet CauseOfDeath AgeAtDeath DateOfBirth DateOfDeath DateDietStart Age diet started Weight00Baseline Weight01 Weight02 Weight03 Weight04 Weight05 Weight06 Weight07 Weight08 Weight09 Weight10 Weight11 Weight12 Weight13 Weight14 Weight15 Weight16 Weight17 Weight18\n",
      "\n",
      "Count of individual columns:\n",
      "EarTagNumberCurrent     2506\n",
      "EarTagNumberOriginal    2506\n",
      "StrainName              2506\n",
      "Sex                     2506\n",
      "Diet                    2506\n",
      "CauseOfDeath            2506\n",
      "AgeAtDeath              2505\n",
      "DateOfBirth             2506\n",
      "DateOfDeath             2505\n",
      "DateDietStart           2506\n",
      "Age diet started        2506\n",
      "Weight00Baseline        2506\n",
      "Weight01                2473\n",
      "Weight02                2266\n",
      "Weight03                2160\n",
      "Weight04                1939\n",
      "Weight05                1639\n",
      "Weight06                1423\n",
      "Weight07                1100\n",
      "Weight08                 824\n",
      "Weight09                 629\n",
      "Weight10                 416\n",
      "Weight11                 255\n",
      "Weight12                 153\n",
      "Weight13                  81\n",
      "Weight14                  49\n",
      "Weight15                  16\n",
      "Weight16                   8\n",
      "Weight17                   4\n",
      "Weight18                   1\n",
      "dtype: int64\n"
     ]
    },
    {
     "data": {
      "text/html": [
       "<div>\n",
       "<style scoped>\n",
       "    .dataframe tbody tr th:only-of-type {\n",
       "        vertical-align: middle;\n",
       "    }\n",
       "\n",
       "    .dataframe tbody tr th {\n",
       "        vertical-align: top;\n",
       "    }\n",
       "\n",
       "    .dataframe thead th {\n",
       "        text-align: right;\n",
       "    }\n",
       "</style>\n",
       "<table border=\"1\" class=\"dataframe\">\n",
       "  <thead>\n",
       "    <tr style=\"text-align: right;\">\n",
       "      <th></th>\n",
       "      <th>EarTagNumberCurrent</th>\n",
       "      <th>EarTagNumberOriginal</th>\n",
       "      <th>StrainName</th>\n",
       "      <th>Sex</th>\n",
       "      <th>Diet</th>\n",
       "      <th>CauseOfDeath</th>\n",
       "      <th>AgeAtDeath</th>\n",
       "      <th>DateOfBirth</th>\n",
       "      <th>DateOfDeath</th>\n",
       "      <th>DateDietStart</th>\n",
       "      <th>...</th>\n",
       "      <th>Weight09</th>\n",
       "      <th>Weight10</th>\n",
       "      <th>Weight11</th>\n",
       "      <th>Weight12</th>\n",
       "      <th>Weight13</th>\n",
       "      <th>Weight14</th>\n",
       "      <th>Weight15</th>\n",
       "      <th>Weight16</th>\n",
       "      <th>Weight17</th>\n",
       "      <th>Weight18</th>\n",
       "    </tr>\n",
       "  </thead>\n",
       "  <tbody>\n",
       "    <tr>\n",
       "      <th>0</th>\n",
       "      <td>1231</td>\n",
       "      <td>1231</td>\n",
       "      <td>B6D2F1</td>\n",
       "      <td>F</td>\n",
       "      <td>CD</td>\n",
       "      <td>Other</td>\n",
       "      <td>193.0</td>\n",
       "      <td>2013-02-03</td>\n",
       "      <td>2013-08-15</td>\n",
       "      <td>2013-08-08</td>\n",
       "      <td>...</td>\n",
       "      <td>NaN</td>\n",
       "      <td>NaN</td>\n",
       "      <td>NaN</td>\n",
       "      <td>NaN</td>\n",
       "      <td>NaN</td>\n",
       "      <td>NaN</td>\n",
       "      <td>NaN</td>\n",
       "      <td>NaN</td>\n",
       "      <td>NaN</td>\n",
       "      <td>NaN</td>\n",
       "    </tr>\n",
       "    <tr>\n",
       "      <th>1</th>\n",
       "      <td>1570</td>\n",
       "      <td>1537</td>\n",
       "      <td>B6D2F1</td>\n",
       "      <td>F</td>\n",
       "      <td>CD</td>\n",
       "      <td>Natural</td>\n",
       "      <td>880.0</td>\n",
       "      <td>2013-07-27</td>\n",
       "      <td>2015-12-24</td>\n",
       "      <td>2014-04-11</td>\n",
       "      <td>...</td>\n",
       "      <td>31.3</td>\n",
       "      <td>21.2</td>\n",
       "      <td>NaN</td>\n",
       "      <td>NaN</td>\n",
       "      <td>NaN</td>\n",
       "      <td>NaN</td>\n",
       "      <td>NaN</td>\n",
       "      <td>NaN</td>\n",
       "      <td>NaN</td>\n",
       "      <td>NaN</td>\n",
       "    </tr>\n",
       "    <tr>\n",
       "      <th>2</th>\n",
       "      <td>2281</td>\n",
       "      <td>2281</td>\n",
       "      <td>B6D2F1</td>\n",
       "      <td>F</td>\n",
       "      <td>CD</td>\n",
       "      <td>Natural</td>\n",
       "      <td>879.0</td>\n",
       "      <td>2015-04-28</td>\n",
       "      <td>2017-09-23</td>\n",
       "      <td>2015-08-05</td>\n",
       "      <td>...</td>\n",
       "      <td>38.7</td>\n",
       "      <td>39.6</td>\n",
       "      <td>NaN</td>\n",
       "      <td>NaN</td>\n",
       "      <td>NaN</td>\n",
       "      <td>NaN</td>\n",
       "      <td>NaN</td>\n",
       "      <td>NaN</td>\n",
       "      <td>NaN</td>\n",
       "      <td>NaN</td>\n",
       "    </tr>\n",
       "    <tr>\n",
       "      <th>3</th>\n",
       "      <td>2282</td>\n",
       "      <td>2282</td>\n",
       "      <td>B6D2F1</td>\n",
       "      <td>F</td>\n",
       "      <td>CD</td>\n",
       "      <td>Natural</td>\n",
       "      <td>992.0</td>\n",
       "      <td>2015-04-28</td>\n",
       "      <td>2018-01-14</td>\n",
       "      <td>2015-08-05</td>\n",
       "      <td>...</td>\n",
       "      <td>41.5</td>\n",
       "      <td>40.6</td>\n",
       "      <td>33.8</td>\n",
       "      <td>NaN</td>\n",
       "      <td>NaN</td>\n",
       "      <td>NaN</td>\n",
       "      <td>NaN</td>\n",
       "      <td>NaN</td>\n",
       "      <td>NaN</td>\n",
       "      <td>NaN</td>\n",
       "    </tr>\n",
       "    <tr>\n",
       "      <th>4</th>\n",
       "      <td>2283</td>\n",
       "      <td>2283</td>\n",
       "      <td>B6D2F1</td>\n",
       "      <td>F</td>\n",
       "      <td>CD</td>\n",
       "      <td>Natural</td>\n",
       "      <td>912.0</td>\n",
       "      <td>2015-04-28</td>\n",
       "      <td>2017-10-26</td>\n",
       "      <td>2015-08-05</td>\n",
       "      <td>...</td>\n",
       "      <td>37.7</td>\n",
       "      <td>39.5</td>\n",
       "      <td>38.0</td>\n",
       "      <td>35.7</td>\n",
       "      <td>NaN</td>\n",
       "      <td>NaN</td>\n",
       "      <td>NaN</td>\n",
       "      <td>NaN</td>\n",
       "      <td>NaN</td>\n",
       "      <td>NaN</td>\n",
       "    </tr>\n",
       "  </tbody>\n",
       "</table>\n",
       "<p>5 rows × 30 columns</p>\n",
       "</div>"
      ],
      "text/plain": [
       "   EarTagNumberCurrent  EarTagNumberOriginal StrainName Sex Diet CauseOfDeath  \\\n",
       "0                 1231                  1231     B6D2F1   F   CD        Other   \n",
       "1                 1570                  1537     B6D2F1   F   CD      Natural   \n",
       "2                 2281                  2281     B6D2F1   F   CD      Natural   \n",
       "3                 2282                  2282     B6D2F1   F   CD      Natural   \n",
       "4                 2283                  2283     B6D2F1   F   CD      Natural   \n",
       "\n",
       "   AgeAtDeath DateOfBirth DateOfDeath DateDietStart  ...  Weight09  Weight10  \\\n",
       "0       193.0  2013-02-03  2013-08-15    2013-08-08  ...       NaN       NaN   \n",
       "1       880.0  2013-07-27  2015-12-24    2014-04-11  ...      31.3      21.2   \n",
       "2       879.0  2015-04-28  2017-09-23    2015-08-05  ...      38.7      39.6   \n",
       "3       992.0  2015-04-28  2018-01-14    2015-08-05  ...      41.5      40.6   \n",
       "4       912.0  2015-04-28  2017-10-26    2015-08-05  ...      37.7      39.5   \n",
       "\n",
       "   Weight11  Weight12  Weight13  Weight14  Weight15  Weight16  Weight17  \\\n",
       "0       NaN       NaN       NaN       NaN       NaN       NaN       NaN   \n",
       "1       NaN       NaN       NaN       NaN       NaN       NaN       NaN   \n",
       "2       NaN       NaN       NaN       NaN       NaN       NaN       NaN   \n",
       "3      33.8       NaN       NaN       NaN       NaN       NaN       NaN   \n",
       "4      38.0      35.7       NaN       NaN       NaN       NaN       NaN   \n",
       "\n",
       "   Weight18  \n",
       "0       NaN  \n",
       "1       NaN  \n",
       "2       NaN  \n",
       "3       NaN  \n",
       "4       NaN  \n",
       "\n",
       "[5 rows x 30 columns]"
      ]
     },
     "execution_count": 3,
     "metadata": {},
     "output_type": "execute_result"
    }
   ],
   "source": [
    "import pandas as pd\n",
    "\n",
    "df = pd.read_excel(\"BXD_BodyWeights_12Nov2021.xlsx\", header=[3])\n",
    "print(f\"Columns:\\n{' '.join(df.columns)}\")\n",
    "print(f\"\\nCount of individual columns:\\n{df.count()}\")\n",
    "df.head()"
   ]
  },
  {
   "cell_type": "markdown",
   "id": "81c1e003",
   "metadata": {},
   "source": [
    "From the above, it's immediately obvious that data collection happened over the span of 18 months, with some experiments-- represented by a single row, running for less than the aforementioned 18 months.  One task, is to determine a minimum threshold for which to conduct our analysis.  With regards to this, for this analysis, experirements that have less than 15 data points are filtered out."
   ]
  },
  {
   "cell_type": "code",
   "execution_count": 4,
   "id": "d0417aa8",
   "metadata": {},
   "outputs": [
    {
     "name": "stdout",
     "output_type": "stream",
     "text": [
      "\n",
      "Count of individual columns:\n",
      "EarTagNumberCurrent     16\n",
      "EarTagNumberOriginal    16\n",
      "StrainName              16\n",
      "Sex                     16\n",
      "Diet                    16\n",
      "CauseOfDeath            16\n",
      "AgeAtDeath              16\n",
      "DateOfBirth             16\n",
      "DateOfDeath             16\n",
      "DateDietStart           16\n",
      "Age diet started        16\n",
      "Weight00Baseline        16\n",
      "Weight01                16\n",
      "Weight02                16\n",
      "Weight03                16\n",
      "Weight04                16\n",
      "Weight05                16\n",
      "Weight06                16\n",
      "Weight07                16\n",
      "Weight08                16\n",
      "Weight09                16\n",
      "Weight10                16\n",
      "Weight11                16\n",
      "Weight12                16\n",
      "Weight13                16\n",
      "Weight14                16\n",
      "Weight15                16\n",
      "Weight16                 8\n",
      "Weight17                 4\n",
      "Weight18                 1\n",
      "dtype: int64\n"
     ]
    }
   ],
   "source": [
    "df = df.dropna(thresh=df.shape[1]-3)\n",
    "print(f\"\\nCount of individual columns:\\n{df.count()}\")"
   ]
  },
  {
   "cell_type": "markdown",
   "id": "70d23545",
   "metadata": {},
   "source": [
    "Each month's entry is represented under \"Weight**\".  With this in mind, we use these columns to represent a time entry by renaming these columns into an index.  \"Weight00\" becomes \"0\", \"Weight01\" becomes \"1\", and so forth."
   ]
  },
  {
   "cell_type": "code",
   "execution_count": 22,
   "id": "6e8c912f",
   "metadata": {},
   "outputs": [
    {
     "name": "stdout",
     "output_type": "stream",
     "text": [
      "Columns:\n",
      "EarTagNumberCurrent EarTagNumberOriginal StrainName Sex Diet CauseOfDeath AgeAtDeath DateOfBirth DateOfDeath DateDietStart Age diet started 0 1 2 3 4 5 6 7 8 9 10 11 12 13 14 15 16 17 18 identifier\n"
     ]
    },
    {
     "data": {
      "text/html": [
       "<div>\n",
       "<style scoped>\n",
       "    .dataframe tbody tr th:only-of-type {\n",
       "        vertical-align: middle;\n",
       "    }\n",
       "\n",
       "    .dataframe tbody tr th {\n",
       "        vertical-align: top;\n",
       "    }\n",
       "\n",
       "    .dataframe thead th {\n",
       "        text-align: right;\n",
       "    }\n",
       "</style>\n",
       "<table border=\"1\" class=\"dataframe\">\n",
       "  <thead>\n",
       "    <tr style=\"text-align: right;\">\n",
       "      <th></th>\n",
       "      <th>EarTagNumberCurrent</th>\n",
       "      <th>EarTagNumberOriginal</th>\n",
       "      <th>StrainName</th>\n",
       "      <th>Sex</th>\n",
       "      <th>Diet</th>\n",
       "      <th>CauseOfDeath</th>\n",
       "      <th>AgeAtDeath</th>\n",
       "      <th>DateOfBirth</th>\n",
       "      <th>DateOfDeath</th>\n",
       "      <th>DateDietStart</th>\n",
       "      <th>...</th>\n",
       "      <th>10</th>\n",
       "      <th>11</th>\n",
       "      <th>12</th>\n",
       "      <th>13</th>\n",
       "      <th>14</th>\n",
       "      <th>15</th>\n",
       "      <th>16</th>\n",
       "      <th>17</th>\n",
       "      <th>18</th>\n",
       "      <th>identifier</th>\n",
       "    </tr>\n",
       "  </thead>\n",
       "  <tbody>\n",
       "    <tr>\n",
       "      <th>19</th>\n",
       "      <td>2817</td>\n",
       "      <td>2817</td>\n",
       "      <td>BXD1</td>\n",
       "      <td>F</td>\n",
       "      <td>CD</td>\n",
       "      <td>Euthanized</td>\n",
       "      <td>1007.0</td>\n",
       "      <td>2018-04-24</td>\n",
       "      <td>2021-01-25</td>\n",
       "      <td>2018-07-12</td>\n",
       "      <td>...</td>\n",
       "      <td>29.6</td>\n",
       "      <td>30.4</td>\n",
       "      <td>29.0</td>\n",
       "      <td>28.2</td>\n",
       "      <td>27.7</td>\n",
       "      <td>26.5</td>\n",
       "      <td>NaN</td>\n",
       "      <td>NaN</td>\n",
       "      <td>NaN</td>\n",
       "      <td>2817-BXD1-F-CD-Euthanized</td>\n",
       "    </tr>\n",
       "    <tr>\n",
       "      <th>179</th>\n",
       "      <td>2228</td>\n",
       "      <td>2228</td>\n",
       "      <td>BXD168</td>\n",
       "      <td>F</td>\n",
       "      <td>CD</td>\n",
       "      <td>Natural</td>\n",
       "      <td>1092.0</td>\n",
       "      <td>2015-06-24</td>\n",
       "      <td>2018-06-20</td>\n",
       "      <td>2015-08-05</td>\n",
       "      <td>...</td>\n",
       "      <td>24.8</td>\n",
       "      <td>28.2</td>\n",
       "      <td>24.9</td>\n",
       "      <td>26.3</td>\n",
       "      <td>23.9</td>\n",
       "      <td>20.9</td>\n",
       "      <td>19.9</td>\n",
       "      <td>NaN</td>\n",
       "      <td>NaN</td>\n",
       "      <td>2228-BXD168-F-CD-Natural</td>\n",
       "    </tr>\n",
       "    <tr>\n",
       "      <th>190</th>\n",
       "      <td>2667</td>\n",
       "      <td>2667</td>\n",
       "      <td>BXD168</td>\n",
       "      <td>F</td>\n",
       "      <td>CD</td>\n",
       "      <td>Euthanized</td>\n",
       "      <td>999.0</td>\n",
       "      <td>2016-12-04</td>\n",
       "      <td>2019-08-30</td>\n",
       "      <td>2017-02-24</td>\n",
       "      <td>...</td>\n",
       "      <td>32.8</td>\n",
       "      <td>33.9</td>\n",
       "      <td>33.8</td>\n",
       "      <td>29.1</td>\n",
       "      <td>27.8</td>\n",
       "      <td>28.1</td>\n",
       "      <td>NaN</td>\n",
       "      <td>NaN</td>\n",
       "      <td>NaN</td>\n",
       "      <td>2667-BXD168-F-CD-Euthanized</td>\n",
       "    </tr>\n",
       "    <tr>\n",
       "      <th>230</th>\n",
       "      <td>2306</td>\n",
       "      <td>2306</td>\n",
       "      <td>BXD175</td>\n",
       "      <td>F</td>\n",
       "      <td>CD</td>\n",
       "      <td>Natural</td>\n",
       "      <td>1091.0</td>\n",
       "      <td>2015-07-10</td>\n",
       "      <td>2018-07-05</td>\n",
       "      <td>2015-09-09</td>\n",
       "      <td>...</td>\n",
       "      <td>21.2</td>\n",
       "      <td>17.2</td>\n",
       "      <td>17.2</td>\n",
       "      <td>16.2</td>\n",
       "      <td>14.3</td>\n",
       "      <td>14.5</td>\n",
       "      <td>13.6</td>\n",
       "      <td>NaN</td>\n",
       "      <td>NaN</td>\n",
       "      <td>2306-BXD175-F-CD-Natural</td>\n",
       "    </tr>\n",
       "    <tr>\n",
       "      <th>273</th>\n",
       "      <td>2210</td>\n",
       "      <td>2210</td>\n",
       "      <td>BXD19</td>\n",
       "      <td>F</td>\n",
       "      <td>CD</td>\n",
       "      <td>Natural</td>\n",
       "      <td>1068.0</td>\n",
       "      <td>2015-06-09</td>\n",
       "      <td>2018-05-12</td>\n",
       "      <td>2015-08-05</td>\n",
       "      <td>...</td>\n",
       "      <td>28.0</td>\n",
       "      <td>28.4</td>\n",
       "      <td>23.8</td>\n",
       "      <td>23.2</td>\n",
       "      <td>21.3</td>\n",
       "      <td>18.9</td>\n",
       "      <td>NaN</td>\n",
       "      <td>NaN</td>\n",
       "      <td>NaN</td>\n",
       "      <td>2210-BXD19-F-CD-Natural</td>\n",
       "    </tr>\n",
       "  </tbody>\n",
       "</table>\n",
       "<p>5 rows × 31 columns</p>\n",
       "</div>"
      ],
      "text/plain": [
       "     EarTagNumberCurrent  EarTagNumberOriginal StrainName Sex Diet  \\\n",
       "19                  2817                  2817       BXD1   F   CD   \n",
       "179                 2228                  2228     BXD168   F   CD   \n",
       "190                 2667                  2667     BXD168   F   CD   \n",
       "230                 2306                  2306     BXD175   F   CD   \n",
       "273                 2210                  2210      BXD19   F   CD   \n",
       "\n",
       "    CauseOfDeath  AgeAtDeath DateOfBirth DateOfDeath DateDietStart  ...    10  \\\n",
       "19    Euthanized      1007.0  2018-04-24  2021-01-25    2018-07-12  ...  29.6   \n",
       "179      Natural      1092.0  2015-06-24  2018-06-20    2015-08-05  ...  24.8   \n",
       "190   Euthanized       999.0  2016-12-04  2019-08-30    2017-02-24  ...  32.8   \n",
       "230      Natural      1091.0  2015-07-10  2018-07-05    2015-09-09  ...  21.2   \n",
       "273      Natural      1068.0  2015-06-09  2018-05-12    2015-08-05  ...  28.0   \n",
       "\n",
       "       11    12    13    14    15    16  17  18                   identifier  \n",
       "19   30.4  29.0  28.2  27.7  26.5   NaN NaN NaN    2817-BXD1-F-CD-Euthanized  \n",
       "179  28.2  24.9  26.3  23.9  20.9  19.9 NaN NaN     2228-BXD168-F-CD-Natural  \n",
       "190  33.9  33.8  29.1  27.8  28.1   NaN NaN NaN  2667-BXD168-F-CD-Euthanized  \n",
       "230  17.2  17.2  16.2  14.3  14.5  13.6 NaN NaN     2306-BXD175-F-CD-Natural  \n",
       "273  28.4  23.8  23.2  21.3  18.9   NaN NaN NaN      2210-BXD19-F-CD-Natural  \n",
       "\n",
       "[5 rows x 31 columns]"
      ]
     },
     "execution_count": 22,
     "metadata": {},
     "output_type": "execute_result"
    }
   ],
   "source": [
    "def rename_columns(name: str) -> str:\n",
    "    name = name.replace(\"Weight\", \"\").replace(\"Baseline\", \"\")\n",
    "    if name.isdigit():\n",
    "        return str(int(name))\n",
    "    return name\n",
    "\n",
    "df = df.rename(columns=rename_columns)\n",
    "print(f\"Columns:\\n{' '.join(df.columns)}\")\n",
    "df.head()"
   ]
  },
  {
   "cell_type": "markdown",
   "id": "3d8f7da8",
   "metadata": {},
   "source": [
    "Next, we collapse various columns that contain metadata into one column."
   ]
  },
  {
   "cell_type": "code",
   "execution_count": 49,
   "id": "cac51200",
   "metadata": {
    "scrolled": true
   },
   "outputs": [
    {
     "data": {
      "text/html": [
       "<div>\n",
       "<style scoped>\n",
       "    .dataframe tbody tr th:only-of-type {\n",
       "        vertical-align: middle;\n",
       "    }\n",
       "\n",
       "    .dataframe tbody tr th {\n",
       "        vertical-align: top;\n",
       "    }\n",
       "\n",
       "    .dataframe thead th {\n",
       "        text-align: right;\n",
       "    }\n",
       "</style>\n",
       "<table border=\"1\" class=\"dataframe\">\n",
       "  <thead>\n",
       "    <tr style=\"text-align: right;\">\n",
       "      <th></th>\n",
       "      <th>0</th>\n",
       "      <th>1</th>\n",
       "      <th>2</th>\n",
       "      <th>3</th>\n",
       "      <th>4</th>\n",
       "      <th>5</th>\n",
       "      <th>6</th>\n",
       "      <th>7</th>\n",
       "      <th>8</th>\n",
       "      <th>9</th>\n",
       "      <th>10</th>\n",
       "      <th>11</th>\n",
       "      <th>12</th>\n",
       "      <th>13</th>\n",
       "      <th>14</th>\n",
       "      <th>15</th>\n",
       "      <th>16</th>\n",
       "      <th>17</th>\n",
       "      <th>18</th>\n",
       "    </tr>\n",
       "    <tr>\n",
       "      <th>identifier</th>\n",
       "      <th></th>\n",
       "      <th></th>\n",
       "      <th></th>\n",
       "      <th></th>\n",
       "      <th></th>\n",
       "      <th></th>\n",
       "      <th></th>\n",
       "      <th></th>\n",
       "      <th></th>\n",
       "      <th></th>\n",
       "      <th></th>\n",
       "      <th></th>\n",
       "      <th></th>\n",
       "      <th></th>\n",
       "      <th></th>\n",
       "      <th></th>\n",
       "      <th></th>\n",
       "      <th></th>\n",
       "      <th></th>\n",
       "    </tr>\n",
       "  </thead>\n",
       "  <tbody>\n",
       "    <tr>\n",
       "      <th>2817-BXD1-F-CD-Euthanized</th>\n",
       "      <td>20.1</td>\n",
       "      <td>27.0</td>\n",
       "      <td>32.6</td>\n",
       "      <td>30.8</td>\n",
       "      <td>30.8</td>\n",
       "      <td>29.2</td>\n",
       "      <td>28.8</td>\n",
       "      <td>27.7</td>\n",
       "      <td>30.2</td>\n",
       "      <td>31.2</td>\n",
       "      <td>29.6</td>\n",
       "      <td>30.4</td>\n",
       "      <td>29.0</td>\n",
       "      <td>28.2</td>\n",
       "      <td>27.7</td>\n",
       "      <td>26.5</td>\n",
       "      <td>NaN</td>\n",
       "      <td>NaN</td>\n",
       "      <td>NaN</td>\n",
       "    </tr>\n",
       "    <tr>\n",
       "      <th>2228-BXD168-F-CD-Natural</th>\n",
       "      <td>15.4</td>\n",
       "      <td>20.4</td>\n",
       "      <td>23.1</td>\n",
       "      <td>24.7</td>\n",
       "      <td>26.5</td>\n",
       "      <td>27.0</td>\n",
       "      <td>27.1</td>\n",
       "      <td>25.9</td>\n",
       "      <td>25.3</td>\n",
       "      <td>24.9</td>\n",
       "      <td>24.8</td>\n",
       "      <td>28.2</td>\n",
       "      <td>24.9</td>\n",
       "      <td>26.3</td>\n",
       "      <td>23.9</td>\n",
       "      <td>20.9</td>\n",
       "      <td>19.9</td>\n",
       "      <td>NaN</td>\n",
       "      <td>NaN</td>\n",
       "    </tr>\n",
       "    <tr>\n",
       "      <th>2667-BXD168-F-CD-Euthanized</th>\n",
       "      <td>20.6</td>\n",
       "      <td>23.7</td>\n",
       "      <td>26.8</td>\n",
       "      <td>30.8</td>\n",
       "      <td>27.7</td>\n",
       "      <td>28.5</td>\n",
       "      <td>29.3</td>\n",
       "      <td>31.2</td>\n",
       "      <td>31.3</td>\n",
       "      <td>32.4</td>\n",
       "      <td>32.8</td>\n",
       "      <td>33.9</td>\n",
       "      <td>33.8</td>\n",
       "      <td>29.1</td>\n",
       "      <td>27.8</td>\n",
       "      <td>28.1</td>\n",
       "      <td>NaN</td>\n",
       "      <td>NaN</td>\n",
       "      <td>NaN</td>\n",
       "    </tr>\n",
       "    <tr>\n",
       "      <th>2306-BXD175-F-CD-Natural</th>\n",
       "      <td>16.2</td>\n",
       "      <td>17.2</td>\n",
       "      <td>19.0</td>\n",
       "      <td>19.6</td>\n",
       "      <td>19.6</td>\n",
       "      <td>20.3</td>\n",
       "      <td>22.0</td>\n",
       "      <td>22.6</td>\n",
       "      <td>22.5</td>\n",
       "      <td>21.3</td>\n",
       "      <td>21.2</td>\n",
       "      <td>17.2</td>\n",
       "      <td>17.2</td>\n",
       "      <td>16.2</td>\n",
       "      <td>14.3</td>\n",
       "      <td>14.5</td>\n",
       "      <td>13.6</td>\n",
       "      <td>NaN</td>\n",
       "      <td>NaN</td>\n",
       "    </tr>\n",
       "    <tr>\n",
       "      <th>2210-BXD19-F-CD-Natural</th>\n",
       "      <td>19.2</td>\n",
       "      <td>29.1</td>\n",
       "      <td>29.9</td>\n",
       "      <td>32.5</td>\n",
       "      <td>32.4</td>\n",
       "      <td>30.6</td>\n",
       "      <td>32.4</td>\n",
       "      <td>29.5</td>\n",
       "      <td>28.3</td>\n",
       "      <td>29.1</td>\n",
       "      <td>28.0</td>\n",
       "      <td>28.4</td>\n",
       "      <td>23.8</td>\n",
       "      <td>23.2</td>\n",
       "      <td>21.3</td>\n",
       "      <td>18.9</td>\n",
       "      <td>NaN</td>\n",
       "      <td>NaN</td>\n",
       "      <td>NaN</td>\n",
       "    </tr>\n",
       "  </tbody>\n",
       "</table>\n",
       "</div>"
      ],
      "text/plain": [
       "                                0     1     2     3     4     5     6     7  \\\n",
       "identifier                                                                    \n",
       "2817-BXD1-F-CD-Euthanized    20.1  27.0  32.6  30.8  30.8  29.2  28.8  27.7   \n",
       "2228-BXD168-F-CD-Natural     15.4  20.4  23.1  24.7  26.5  27.0  27.1  25.9   \n",
       "2667-BXD168-F-CD-Euthanized  20.6  23.7  26.8  30.8  27.7  28.5  29.3  31.2   \n",
       "2306-BXD175-F-CD-Natural     16.2  17.2  19.0  19.6  19.6  20.3  22.0  22.6   \n",
       "2210-BXD19-F-CD-Natural      19.2  29.1  29.9  32.5  32.4  30.6  32.4  29.5   \n",
       "\n",
       "                                8     9    10    11    12    13    14    15  \\\n",
       "identifier                                                                    \n",
       "2817-BXD1-F-CD-Euthanized    30.2  31.2  29.6  30.4  29.0  28.2  27.7  26.5   \n",
       "2228-BXD168-F-CD-Natural     25.3  24.9  24.8  28.2  24.9  26.3  23.9  20.9   \n",
       "2667-BXD168-F-CD-Euthanized  31.3  32.4  32.8  33.9  33.8  29.1  27.8  28.1   \n",
       "2306-BXD175-F-CD-Natural     22.5  21.3  21.2  17.2  17.2  16.2  14.3  14.5   \n",
       "2210-BXD19-F-CD-Natural      28.3  29.1  28.0  28.4  23.8  23.2  21.3  18.9   \n",
       "\n",
       "                               16  17  18  \n",
       "identifier                                 \n",
       "2817-BXD1-F-CD-Euthanized     NaN NaN NaN  \n",
       "2228-BXD168-F-CD-Natural     19.9 NaN NaN  \n",
       "2667-BXD168-F-CD-Euthanized   NaN NaN NaN  \n",
       "2306-BXD175-F-CD-Natural     13.6 NaN NaN  \n",
       "2210-BXD19-F-CD-Natural       NaN NaN NaN  "
      ]
     },
     "execution_count": 49,
     "metadata": {},
     "output_type": "execute_result"
    }
   ],
   "source": [
    "columns = [\"EarTagNumberOriginal\", \"StrainName\", \"Sex\", \"Diet\", \"CauseOfDeath\"]\n",
    "\n",
    "df[\"identifier\"] = df[columns].apply(\n",
    "    lambda row: \"-\".join(row.values.astype(str)), axis=1)\n",
    "\n",
    "weights = df.drop(df.columns[[i for i in range(0, 11)]],\n",
    "                       axis=1).set_index(\"identifier\")\n",
    "\n",
    "weights.head()"
   ]
  },
  {
   "cell_type": "markdown",
   "id": "4f4424ce",
   "metadata": {},
   "source": [
    "### Visualisation And Analysis\n",
    "\n",
    "We make a time series plot for every row in the same figure:"
   ]
  },
  {
   "cell_type": "code",
   "execution_count": 50,
   "id": "a05eb49f",
   "metadata": {},
   "outputs": [
    {
     "data": {
      "text/plain": [
       "[<matplotlib.lines.Line2D at 0x7f475e261220>,\n",
       " <matplotlib.lines.Line2D at 0x7f475e2611f0>,\n",
       " <matplotlib.lines.Line2D at 0x7f475e2613a0>,\n",
       " <matplotlib.lines.Line2D at 0x7f475e2614c0>,\n",
       " <matplotlib.lines.Line2D at 0x7f475e2615e0>,\n",
       " <matplotlib.lines.Line2D at 0x7f475e261700>,\n",
       " <matplotlib.lines.Line2D at 0x7f475e2b5d90>,\n",
       " <matplotlib.lines.Line2D at 0x7f475e261820>,\n",
       " <matplotlib.lines.Line2D at 0x7f475e261a30>,\n",
       " <matplotlib.lines.Line2D at 0x7f475e261b50>,\n",
       " <matplotlib.lines.Line2D at 0x7f475e261c70>,\n",
       " <matplotlib.lines.Line2D at 0x7f475e261d90>,\n",
       " <matplotlib.lines.Line2D at 0x7f475e261eb0>,\n",
       " <matplotlib.lines.Line2D at 0x7f475e261fd0>,\n",
       " <matplotlib.lines.Line2D at 0x7f475e268130>,\n",
       " <matplotlib.lines.Line2D at 0x7f475e268250>]"
      ]
     },
     "execution_count": 50,
     "metadata": {},
     "output_type": "execute_result"
    },
    {
     "data": {
      "image/png": "[encoded data removed]",
      "text/plain": [
       "<Figure size 432x288 with 1 Axes>"
      ]
     },
     "metadata": {},
     "output_type": "display_data"
    }
   ],
   "source": [
    "import matplotlib.pyplot as plt\n",
    "%matplotlib inline\n",
    "\n",
    "\n",
    "plt.plot(weights.transpose())"
   ]
  },
  {
   "cell_type": "markdown",
   "id": "45c7133c",
   "metadata": {},
   "source": [
    "From the above, we can see that all the BXD colonies seem similar in shape.  To make our analysis easier, we choose one experiment, and in this case, we opt for one which has no missing entry(that is, one that ran for a period of 18 months):"
   ]
  },
  {
   "cell_type": "code",
   "execution_count": 57,
   "id": "33573529",
   "metadata": {},
   "outputs": [
    {
     "data": {
      "text/html": [
       "<div>\n",
       "<style scoped>\n",
       "    .dataframe tbody tr th:only-of-type {\n",
       "        vertical-align: middle;\n",
       "    }\n",
       "\n",
       "    .dataframe tbody tr th {\n",
       "        vertical-align: top;\n",
       "    }\n",
       "\n",
       "    .dataframe thead th {\n",
       "        text-align: right;\n",
       "    }\n",
       "</style>\n",
       "<table border=\"1\" class=\"dataframe\">\n",
       "  <thead>\n",
       "    <tr style=\"text-align: right;\">\n",
       "      <th>identifier</th>\n",
       "      <th>2534-BXD29-F-CD-Natural</th>\n",
       "    </tr>\n",
       "  </thead>\n",
       "  <tbody>\n",
       "    <tr>\n",
       "      <th>0</th>\n",
       "      <td>21.5</td>\n",
       "    </tr>\n",
       "    <tr>\n",
       "      <th>1</th>\n",
       "      <td>23.2</td>\n",
       "    </tr>\n",
       "    <tr>\n",
       "      <th>2</th>\n",
       "      <td>25.8</td>\n",
       "    </tr>\n",
       "    <tr>\n",
       "      <th>3</th>\n",
       "      <td>25.8</td>\n",
       "    </tr>\n",
       "    <tr>\n",
       "      <th>4</th>\n",
       "      <td>27.7</td>\n",
       "    </tr>\n",
       "  </tbody>\n",
       "</table>\n",
       "</div>"
      ],
      "text/plain": [
       "identifier  2534-BXD29-F-CD-Natural\n",
       "0                              21.5\n",
       "1                              23.2\n",
       "2                              25.8\n",
       "3                              25.8\n",
       "4                              27.7"
      ]
     },
     "execution_count": 57,
     "metadata": {},
     "output_type": "execute_result"
    },
    {
     "data": {
      "image/png": "[encoded data removed]",
      "text/plain": [
       "<Figure size 432x288 with 1 Axes>"
      ]
     },
     "metadata": {},
     "output_type": "display_data"
    }
   ],
   "source": [
    "single_bxd = weights.dropna(thresh=weights.shape[1]-0).transpose()\n",
    "plt.plot(single_bxd)\n",
    "single_bxd.head()"
   ]
  },
  {
   "cell_type": "code",
   "execution_count": 58,
   "id": "6856a3cb",
   "metadata": {},
   "outputs": [
    {
     "data": {
      "text/plain": [
       "0     21.5\n",
       "1     23.2\n",
       "2     25.8\n",
       "3     25.8\n",
       "4     27.7\n",
       "5     27.7\n",
       "6     27.5\n",
       "7     27.9\n",
       "8     27.1\n",
       "9     25.7\n",
       "10    27.0\n",
       "11    25.3\n",
       "12    23.0\n",
       "13    21.5\n",
       "14    19.3\n",
       "15    17.1\n",
       "16    16.4\n",
       "17    16.8\n",
       "18    17.3\n",
       "Name: 2534-BXD29-F-CD-Natural, dtype: float64"
      ]
     },
     "execution_count": 58,
     "metadata": {},
     "output_type": "execute_result"
    }
   ],
   "source": [
    "single_bxd[\"2534-BXD29-F-CD-Natural\"]"
   ]
  },
  {
   "cell_type": "markdown",
   "id": "8726973a",
   "metadata": {},
   "source": [
    "Here, we try to model the time series as an additive time series[1]:\n",
    "\n",
    "```\n",
    "Value = Base Level + Trend + Seasonality + Error  \n",
    "```"
   ]
  },
  {
   "cell_type": "code",
   "execution_count": 59,
   "id": "7f797de9",
   "metadata": {},
   "outputs": [
    {
     "data": {
      "text/plain": [
       "Text(0.5, 0.98, 'Additive Decompose')"
      ]
     },
     "execution_count": 59,
     "metadata": {},
     "output_type": "execute_result"
    },
    {
     "data": {
      "image/png": "[encoded data removed]",
      "text/plain": [
       "<Figure size 432x288 with 4 Axes>"
      ]
     },
     "metadata": {},
     "output_type": "display_data"
    }
   ],
   "source": [
    "from statsmodels.tsa.seasonal import seasonal_decompose\n",
    "\n",
    "bxd_additive = seasonal_decompose(single_bxd.iloc[:,0],\n",
    "                                  period=1,\n",
    "                                  model='additive')\n",
    "bxd_additive.plot().suptitle(\"Additive Decompose\", fontsize=10)"
   ]
  },
  {
   "cell_type": "markdown",
   "id": "52265ce3",
   "metadata": {},
   "source": [
    "Here, we try to model the time series as a multiplicative time series:\n",
    "\n",
    "```\n",
    "Value = Base Level * Trend * Seasonality * Error    \n",
    "```"
   ]
  },
  {
   "cell_type": "markdown",
   "id": "fc3c3a88",
   "metadata": {},
   "source": [
    "We perform an Augmented Dickey Fuller (ADF)[2] Test to check whether the series is stationary or not:"
   ]
  },
  {
   "cell_type": "code",
   "execution_count": 60,
   "id": "939c2ec0",
   "metadata": {},
   "outputs": [
    {
     "name": "stdout",
     "output_type": "stream",
     "text": [
      "ADF Statistic: -0.0544396646351928\n",
      "p-value: 0.9537916493653631\n",
      "Critial Values:\n",
      "   1%, -3.859073285322359\n",
      "Critial Values:\n",
      "   5%, -3.0420456927297668\n",
      "Critial Values:\n",
      "   10%, -2.6609064197530863\n"
     ]
    }
   ],
   "source": [
    "from statsmodels.tsa.stattools import adfuller\n",
    "\n",
    "def print_test_statistics(values):\n",
    "    result = adfuller(values)\n",
    "    print(f'ADF Statistic: {result[0]}')\n",
    "    print(f'p-value: {result[1]}')\n",
    "    for key, value in result[4].items():\n",
    "        print('Critial Values:')\n",
    "        print(f'   {key}, {value}')\n",
    "    \n",
    "print_test_statistics(values=single_bxd.iloc[:,0].values)"
   ]
  },
  {
   "cell_type": "markdown",
   "id": "7a4d483c",
   "metadata": {},
   "source": [
    "From the above, the obtained p-value is greater than significance level of 0.05 and the ADF statistic is greater than any of the critical values.  We therefore do not reject the null hypothesis, and we can conclude that this series is non-stationary.\n",
    "\n",
    "The next step in our analysis is to try to make this series stationary, and we first try to do this by differencing:"
   ]
  },
  {
   "cell_type": "code",
   "execution_count": 61,
   "id": "f1b05b15",
   "metadata": {},
   "outputs": [
    {
     "name": "stdout",
     "output_type": "stream",
     "text": [
      "ADF Statistic: -963.6122928751103\n",
      "p-value: 0.0\n",
      "Critial Values:\n",
      "   1%, -4.331573\n",
      "Critial Values:\n",
      "   5%, -3.23295\n",
      "Critial Values:\n",
      "   10%, -2.7487\n"
     ]
    },
    {
     "data": {
      "image/png": "[encoded data removed]",
      "text/plain": [
       "<Figure size 432x288 with 1 Axes>"
      ]
     },
     "metadata": {},
     "output_type": "display_data"
    }
   ],
   "source": [
    "diffed_single_bxd = single_bxd.diff().dropna()\n",
    "plt.plot(diffed_single_bxd)\n",
    "\n",
    "print_test_statistics(diffed_single_bxd.iloc[:,0].values)"
   ]
  },
  {
   "cell_type": "markdown",
   "id": "5513fa5d",
   "metadata": {},
   "source": [
    "From the above, we see that differencing once made the time series stationary because the p-value is less than 0.05 and the ADF statistic is less than all the critical values.  Next, we plot the PACF and ACF to help us determine which model(AR[I]MA(p,q), AR(p), MA(q)) model to fit:"
   ]
  },
  {
   "cell_type": "code",
   "execution_count": 62,
   "id": "b888df02",
   "metadata": {},
   "outputs": [
    {
     "data": {
      "image/png": "[encoded data removed]",
      "text/plain": [
       "<Figure size 432x288 with 1 Axes>"
      ]
     },
     "execution_count": 62,
     "metadata": {},
     "output_type": "execute_result"
    },
    {
     "data": {
      "image/png": "[encoded data removed]",
      "text/plain": [
       "<Figure size 432x288 with 1 Axes>"
      ]
     },
     "metadata": {},
     "output_type": "display_data"
    },
    {
     "data": {
      "image/png": "[encoded data removed]",
      "text/plain": [
       "<Figure size 432x288 with 1 Axes>"
      ]
     },
     "metadata": {},
     "output_type": "display_data"
    }
   ],
   "source": [
    "from statsmodels.graphics.tsaplots import plot_acf, plot_pacf\n",
    "\n",
    "plot_acf(diffed_single_bxd)\n",
    "plot_pacf(diffed_single_bxd, lags=8, method=\"yw\")"
   ]
  },
  {
   "cell_type": "markdown",
   "id": "fd8c4136",
   "metadata": {},
   "source": [
    "From the above, we see a tail-off at the ACF plot, and a cut-off at lag 1 in the PACF.  This indicates an AR(1) process of the form:\n",
    "\n",
    "x<sub>t</sub> = ϕ<sub>0</sub>x<sub>0</sub> + ϕ<sub>1</sub>x<sub>t-1</sub> + ω<sub>t-1</sub> + μ\n",
    "\n",
    "We can now use Yule Walker equations to get the value of ϕ.  For this, we split the data into a training and test set, so that we can perform how our model performs:"
   ]
  },
  {
   "cell_type": "code",
   "execution_count": 63,
   "id": "3daef587",
   "metadata": {},
   "outputs": [
    {
     "name": "stdout",
     "output_type": "stream",
     "text": [
      "Coefficients: [-0.183827   0.3372827]\n"
     ]
    }
   ],
   "source": [
    "from statsmodels.tsa.ar_model import AutoReg\n",
    "X = diffed_single_bxd.iloc[:,0].values\n",
    "train, test = X[0:len(X)-5], X[len(X)-5:]\n",
    "model_fit = AutoReg(train, lags=1).fit()\n",
    "print(f'Coefficients: {model_fit.params}')"
   ]
  },
  {
   "cell_type": "markdown",
   "id": "80aa9a03",
   "metadata": {},
   "source": [
    "We thereafter inspect the errors from our model:"
   ]
  },
  {
   "cell_type": "code",
   "execution_count": 64,
   "id": "e1159394",
   "metadata": {},
   "outputs": [
    {
     "name": "stdout",
     "output_type": "stream",
     "text": [
      "Error: 1.5102489398206589\n",
      "Error: 1.7835318929135164\n",
      "Error: 0.3757055062078283\n",
      "Error: 0.6932059282904643\n",
      "Error: 0.7827202928638868\n"
     ]
    }
   ],
   "source": [
    "predictions = model_fit.predict(start=len(train),\n",
    "                                end=len(train)+len(test)-1,\n",
    "                                dynamic=False)\n",
    "for i in range(len(predictions)):\n",
    "    print(f\"Error: {abs(predictions[i] - test[i])}\")"
   ]
  },
  {
   "cell_type": "markdown",
   "id": "8c4bc380",
   "metadata": {},
   "source": [
    "We use the root mean square error to see how our model performs:"
   ]
  },
  {
   "cell_type": "code",
   "execution_count": 66,
   "id": "96ca623c",
   "metadata": {},
   "outputs": [
    {
     "name": "stdout",
     "output_type": "stream",
     "text": [
      "Test RMSE: 1.157\n"
     ]
    }
   ],
   "source": [
    "from sklearn.metrics import mean_squared_error\n",
    "from math import sqrt\n",
    "\n",
    "rmse = sqrt(mean_squared_error(test, predictions))\n",
    "print('Test RMSE: %.3f' % rmse)"
   ]
  },
  {
   "cell_type": "markdown",
   "id": "f7065e45",
   "metadata": {},
   "source": [
    "And finally we plot how predicted values against the actual values"
   ]
  },
  {
   "cell_type": "code",
   "execution_count": 68,
   "id": "bbb64bb6",
   "metadata": {},
   "outputs": [
    {
     "data": {
      "image/png": "[encoded data removed]",
      "text/plain": [
       "<Figure size 432x288 with 1 Axes>"
      ]
     },
     "metadata": {},
     "output_type": "display_data"
    }
   ],
   "source": [
    "# plot results\n",
    "plt.plot(test)\n",
    "plt.plot(predictions, color='red')\n",
    "plt.show()"
   ]
  },
  {
   "cell_type": "markdown",
   "id": "e653ca10",
   "metadata": {},
   "source": [
    "## Conclusion\n",
    "\n",
    "In this data-exploration exercise, we obtained real world data on BXD Mouse colonies which were represented in excel format as vectors.  We extracted the longest running experiment and did some time series analysis on it.  For this chosen experiment, the data was non-stationary, and we had to difference it once to make it stationary.  The PACF and ACF plots of the differenced data allowed us to infer that this data could be modelled using an AR(1) process.  As an exercise in forecasting, the experiment was split into a test and train data set, and used in forecasting.  The results were satisfactory, albeit 18 data points being too little to make a definite conclusion.  In conclusion, this exercise shows that an AR(1) process can be used to model the aging process of a mouse colony."
   ]
  },
  {
   "cell_type": "markdown",
   "id": "ae80663c",
   "metadata": {},
   "source": [
    "## Future Work\n",
    "\n",
    "There were 2506 experiments in this data set and only one was chosen.  Coming up with a generalized model that performs well, if feasible, for all this experiments should be explored.  This would prove useful to researchers as an extra quality control check after completing an experiment, before uploading their data, for example, to a website like www.genenetwork.org."
   ]
  },
  {
   "cell_type": "markdown",
   "id": "bad909d9",
   "metadata": {},
   "source": [
    "## References\n",
    "\n",
    "[0] Ashbrook, D. G., Arends, D., Prins, P., Mulligan, M. K., Roy, S., Williams, E. G., ... & Williams, R. W. (2021). A platform for experimental precision medicine: the extended BXD mouse family. Cell Syst 12 (3): 235-247. e9.\n",
    "\n",
    "[1] Time Series Analysis in Python – A Comprehensive Guide with Examples. Dec. 27, 2021. url: https://www.machinelearningplus.com/time-series/time-series-analysis-python/\n",
    "\n",
    "[2] Augmented Dickey Fuller Test (ADF Test) – Must Read Guide. Dec 28, 2021. url:https://www.machinelearningplus.com/time-series/augmented-dickey-fuller-test/"
   ]
  },
  {
   "cell_type": "markdown",
   "id": "2e07bd95",
   "metadata": {},
   "source": [
    "# Appendix\n",
    "### Using GNU/ GUIX To Manage Dependencies\n",
    "\n",
    "In this exercise, [GNU Guix](https://guix.gnu.org/) was used to handle dependencies.  The following manifest file was used:\n",
    "\n",
    "```\n",
    "(specifications->manifest\n",
    " '(\"python-matplotlib\"\n",
    "   \"python-notebook\"\n",
    "   \"python-numpy\"\n",
    "   \"python-pandas\"\n",
    "   \"python-scikit-learn\"\n",
    "   \"python-scipy\"\n",
    "   \"python-seaborn\"\n",
    "   \"python-statsmodels\"\n",
    "   \"python-wrapper\"))\n",
    "```\n",
    "\n",
    "This file was saved in a `manifest.scm` file and loaded with `guix shell -m manifest.scm`.  The command used to start the notebook file was: `jupyter notebook --ip=0.0.0.0 --port=8080`"
   ]
  }
 ],
 "metadata": {
  "kernelspec": {
   "display_name": "Python 3",
   "language": "/gnu/store/3282r97il61j9jkv2aaifa3nwdylzfsv-python-wrapper-3.9.6/bin/python",
   "name": "python3"
  },
  "language_info": {
   "codemirror_mode": {
    "name": "ipython",
    "version": 3
   },
   "file_extension": ".py",
   "mimetype": "text/x-python",
   "name": "python",
   "nbconvert_exporter": "python",
   "pygments_lexer": "ipython3",
   "version": "3.9.6"
  }
 },
 "nbformat": 4,
 "nbformat_minor": 5
}
